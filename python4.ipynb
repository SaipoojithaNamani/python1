{
  "nbformat": 4,
  "nbformat_minor": 0,
  "metadata": {
    "colab": {
      "provenance": [],
      "authorship_tag": "ABX9TyNp43YIjsTwbAnPO8Klp+cx",
      "include_colab_link": true
    },
    "kernelspec": {
      "name": "python3",
      "display_name": "Python 3"
    },
    "language_info": {
      "name": "python"
    }
  },
  "cells": [
    {
      "cell_type": "markdown",
      "metadata": {
        "id": "view-in-github",
        "colab_type": "text"
      },
      "source": [
        "<a href=\"https://colab.research.google.com/github/SaipoojithaNamani/python1/blob/main/python4.ipynb\" target=\"_parent\"><img src=\"https://colab.research.google.com/assets/colab-badge.svg\" alt=\"Open In Colab\"/></a>"
      ]
    },
    {
      "cell_type": "code",
      "execution_count": 2,
      "metadata": {
        "colab": {
          "base_uri": "https://localhost:8080/"
        },
        "id": "bHXLFNdDT7Li",
        "outputId": "9f5794c7-0724-441d-dddb-ec758d41a410"
      },
      "outputs": [
        {
          "output_type": "execute_result",
          "data": {
            "text/plain": [
              "{100: 3, 105: 4, 56: 3}"
            ]
          },
          "metadata": {},
          "execution_count": 2
        }
      ],
      "source": [
        "#dictionary\n",
        "d={100:3,105:4,56:3}\n",
        "d"
      ]
    },
    {
      "cell_type": "code",
      "source": [
        "l={5,7,4,2,1}\n",
        "l"
      ],
      "metadata": {
        "colab": {
          "base_uri": "https://localhost:8080/"
        },
        "id": "nFOh1iYRWEHH",
        "outputId": "e33378c0-7099-4f61-f9a0-c8b777bc2173"
      },
      "execution_count": 3,
      "outputs": [
        {
          "output_type": "execute_result",
          "data": {
            "text/plain": [
              "{1, 2, 4, 5, 7}"
            ]
          },
          "metadata": {},
          "execution_count": 3
        }
      ]
    },
    {
      "cell_type": "code",
      "source": [
        "type(l)"
      ],
      "metadata": {
        "colab": {
          "base_uri": "https://localhost:8080/"
        },
        "id": "d6UfhsM_WQGR",
        "outputId": "1b5a0f46-3df4-4714-e04b-75c0783bf7d2"
      },
      "execution_count": 4,
      "outputs": [
        {
          "output_type": "execute_result",
          "data": {
            "text/plain": [
              "set"
            ]
          },
          "metadata": {},
          "execution_count": 4
        }
      ]
    },
    {
      "cell_type": "code",
      "source": [
        "type(d)"
      ],
      "metadata": {
        "colab": {
          "base_uri": "https://localhost:8080/"
        },
        "id": "qG0MyO-oWSFQ",
        "outputId": "46d34ed1-cef3-4b36-8baa-340f3ed950c0"
      },
      "execution_count": 5,
      "outputs": [
        {
          "output_type": "execute_result",
          "data": {
            "text/plain": [
              "dict"
            ]
          },
          "metadata": {},
          "execution_count": 5
        }
      ]
    },
    {
      "cell_type": "code",
      "source": [
        "v = {2:3, 4:5, 2:1}\n",
        "v"
      ],
      "metadata": {
        "colab": {
          "base_uri": "https://localhost:8080/"
        },
        "id": "m4rCK4vTWWxU",
        "outputId": "27223f99-fe1e-4a81-a62c-1b400ee53ff5"
      },
      "execution_count": 19,
      "outputs": [
        {
          "output_type": "execute_result",
          "data": {
            "text/plain": [
              "{2: 1, 4: 5}"
            ]
          },
          "metadata": {},
          "execution_count": 19
        }
      ]
    },
    {
      "cell_type": "code",
      "source": [
        "v[2]"
      ],
      "metadata": {
        "colab": {
          "base_uri": "https://localhost:8080/"
        },
        "id": "A0N0Z5X2WhzB",
        "outputId": "1864c249-8bd9-4eb4-ff2b-f4ec4b6a13fd"
      },
      "execution_count": 22,
      "outputs": [
        {
          "output_type": "execute_result",
          "data": {
            "text/plain": [
              "1"
            ]
          },
          "metadata": {},
          "execution_count": 22
        }
      ]
    },
    {
      "cell_type": "code",
      "source": [
        "v.update({5:78})"
      ],
      "metadata": {
        "id": "FXo6h7ErWqMT"
      },
      "execution_count": 23,
      "outputs": []
    },
    {
      "cell_type": "code",
      "source": [
        "v"
      ],
      "metadata": {
        "colab": {
          "base_uri": "https://localhost:8080/"
        },
        "id": "xW3B0oa_XyyD",
        "outputId": "5a044ffa-0928-4092-9cf9-2617cb9be65a"
      },
      "execution_count": 24,
      "outputs": [
        {
          "output_type": "execute_result",
          "data": {
            "text/plain": [
              "{2: 1, 4: 5, 5: 78}"
            ]
          },
          "metadata": {},
          "execution_count": 24
        }
      ]
    },
    {
      "cell_type": "code",
      "source": [
        "d[66] = 200"
      ],
      "metadata": {
        "id": "A-0i8b5tXzvy"
      },
      "execution_count": 30,
      "outputs": []
    },
    {
      "cell_type": "code",
      "source": [
        "v"
      ],
      "metadata": {
        "colab": {
          "base_uri": "https://localhost:8080/"
        },
        "id": "G6XYJMizYJRJ",
        "outputId": "2407e8ac-be12-4973-9402-9f99dfb939ae"
      },
      "execution_count": 31,
      "outputs": [
        {
          "output_type": "execute_result",
          "data": {
            "text/plain": [
              "{2: 1, 4: 5, 5: 78}"
            ]
          },
          "metadata": {},
          "execution_count": 31
        }
      ]
    },
    {
      "cell_type": "code",
      "source": [
        "d={101: 4, 2:102, 7:6,'B':2}\n",
        "d"
      ],
      "metadata": {
        "colab": {
          "base_uri": "https://localhost:8080/"
        },
        "id": "Zdwzacn_YPzx",
        "outputId": "60d5ebf0-5903-4698-9ae8-958a0c05a3fd"
      },
      "execution_count": 34,
      "outputs": [
        {
          "output_type": "execute_result",
          "data": {
            "text/plain": [
              "{101: 4, 2: 102, 7: 6, 'B': 2}"
            ]
          },
          "metadata": {},
          "execution_count": 34
        }
      ]
    },
    {
      "cell_type": "code",
      "source": [
        "d[101]=40"
      ],
      "metadata": {
        "id": "i9wFKOxjYjaa"
      },
      "execution_count": 35,
      "outputs": []
    },
    {
      "cell_type": "code",
      "source": [
        "d"
      ],
      "metadata": {
        "colab": {
          "base_uri": "https://localhost:8080/"
        },
        "id": "AuqgeMRpYxQp",
        "outputId": "4aa4e9ac-cf70-43da-e34a-732c4bc2c358"
      },
      "execution_count": 36,
      "outputs": [
        {
          "output_type": "execute_result",
          "data": {
            "text/plain": [
              "{101: 40, 2: 102, 7: 6, 'B': 2}"
            ]
          },
          "metadata": {},
          "execution_count": 36
        }
      ]
    },
    {
      "cell_type": "code",
      "source": [
        "d[2]=4000\n"
      ],
      "metadata": {
        "id": "aFtjECtzYx9q"
      },
      "execution_count": 37,
      "outputs": []
    },
    {
      "cell_type": "code",
      "source": [
        "d"
      ],
      "metadata": {
        "colab": {
          "base_uri": "https://localhost:8080/"
        },
        "id": "bFGhGvPiY2PG",
        "outputId": "f66aef88-cd77-421b-aa31-44cafd5e96c9"
      },
      "execution_count": 38,
      "outputs": [
        {
          "output_type": "execute_result",
          "data": {
            "text/plain": [
              "{101: 40, 2: 4000, 7: 6, 'B': 2}"
            ]
          },
          "metadata": {},
          "execution_count": 38
        }
      ]
    },
    {
      "cell_type": "code",
      "source": [
        "d.update({102:3000})"
      ],
      "metadata": {
        "id": "z1_Inj8KY3Bv"
      },
      "execution_count": 39,
      "outputs": []
    },
    {
      "cell_type": "code",
      "source": [
        "d"
      ],
      "metadata": {
        "colab": {
          "base_uri": "https://localhost:8080/"
        },
        "id": "-WYUQ0meY7iC",
        "outputId": "e956ef3a-0f99-40c3-9d8a-d062b8a037e1"
      },
      "execution_count": 40,
      "outputs": [
        {
          "output_type": "execute_result",
          "data": {
            "text/plain": [
              "{101: 40, 2: 4000, 7: 6, 'B': 2, 102: 3000}"
            ]
          },
          "metadata": {},
          "execution_count": 40
        }
      ]
    },
    {
      "cell_type": "code",
      "source": [
        "d.update({7:6000})"
      ],
      "metadata": {
        "id": "yz3EbbWoY-es"
      },
      "execution_count": 41,
      "outputs": []
    },
    {
      "cell_type": "code",
      "source": [
        "d"
      ],
      "metadata": {
        "colab": {
          "base_uri": "https://localhost:8080/"
        },
        "id": "P3vAg0lTZQ4J",
        "outputId": "db2c40de-40c2-4043-96e7-8ed4ba4e3bf9"
      },
      "execution_count": 42,
      "outputs": [
        {
          "output_type": "execute_result",
          "data": {
            "text/plain": [
              "{101: 40, 2: 4000, 7: 6000, 'B': 2, 102: 3000}"
            ]
          },
          "metadata": {},
          "execution_count": 42
        }
      ]
    },
    {
      "cell_type": "code",
      "source": [
        "d.get(6000)\n",
        "d"
      ],
      "metadata": {
        "colab": {
          "base_uri": "https://localhost:8080/"
        },
        "id": "B8T2SDM0ZRYH",
        "outputId": "c91d0b73-dc77-4b7c-f379-878a9ec71fa0"
      },
      "execution_count": 45,
      "outputs": [
        {
          "output_type": "execute_result",
          "data": {
            "text/plain": [
              "{101: 40, 2: 4000, 7: 6000, 'B': 2, 102: 3000}"
            ]
          },
          "metadata": {},
          "execution_count": 45
        }
      ]
    },
    {
      "cell_type": "code",
      "source": [
        "d"
      ],
      "metadata": {
        "colab": {
          "base_uri": "https://localhost:8080/"
        },
        "id": "QjqsinhDZU6H",
        "outputId": "35a438a0-649e-404d-b1a3-f1587326248f"
      },
      "execution_count": 44,
      "outputs": [
        {
          "output_type": "execute_result",
          "data": {
            "text/plain": [
              "{101: 40, 2: 4000, 7: 6000, 'B': 2, 102: 3000}"
            ]
          },
          "metadata": {},
          "execution_count": 44
        }
      ]
    },
    {
      "cell_type": "code",
      "source": [
        "d.update({101:'newyork'})"
      ],
      "metadata": {
        "id": "rj_YqZ6HZVjr"
      },
      "execution_count": 46,
      "outputs": []
    },
    {
      "cell_type": "code",
      "source": [
        "d"
      ],
      "metadata": {
        "colab": {
          "base_uri": "https://localhost:8080/"
        },
        "id": "IH5J51OlZktV",
        "outputId": "3a769334-c37b-4a8f-9f0a-c6f268a3fa73"
      },
      "execution_count": 47,
      "outputs": [
        {
          "output_type": "execute_result",
          "data": {
            "text/plain": [
              "{101: 'newyork', 2: 4000, 7: 6000, 'B': 2, 102: 3000}"
            ]
          },
          "metadata": {},
          "execution_count": 47
        }
      ]
    },
    {
      "cell_type": "code",
      "source": [
        "d.update({102:'Toronto'}) #dictionaries doesn't allow duplicate keys"
      ],
      "metadata": {
        "id": "zZkb4YO_ZlYT"
      },
      "execution_count": 48,
      "outputs": []
    },
    {
      "cell_type": "code",
      "source": [
        "d"
      ],
      "metadata": {
        "colab": {
          "base_uri": "https://localhost:8080/"
        },
        "id": "VGLEeAkZZ83N",
        "outputId": "b4906110-70c9-4554-aad3-22f16df89721"
      },
      "execution_count": 49,
      "outputs": [
        {
          "output_type": "execute_result",
          "data": {
            "text/plain": [
              "{101: 'newyork', 2: 4000, 7: 6000, 'B': 2, 102: 'Toronto'}"
            ]
          },
          "metadata": {},
          "execution_count": 49
        }
      ]
    },
    {
      "cell_type": "code",
      "source": [
        "d[101] #dictionaries"
      ],
      "metadata": {
        "colab": {
          "base_uri": "https://localhost:8080/",
          "height": 35
        },
        "id": "vNU3KlfEZ911",
        "outputId": "04ab9b20-4a40-4c81-df88-3e3726fbd4ee"
      },
      "execution_count": 50,
      "outputs": [
        {
          "output_type": "execute_result",
          "data": {
            "text/plain": [
              "'newyork'"
            ],
            "application/vnd.google.colaboratory.intrinsic+json": {
              "type": "string"
            }
          },
          "metadata": {},
          "execution_count": 50
        }
      ]
    },
    {
      "cell_type": "code",
      "source": [
        "d.get(101)"
      ],
      "metadata": {
        "colab": {
          "base_uri": "https://localhost:8080/",
          "height": 35
        },
        "id": "-pM7dMAVaT3d",
        "outputId": "683aa9a8-26f6-4d96-9b3a-6d9d9f168781"
      },
      "execution_count": 51,
      "outputs": [
        {
          "output_type": "execute_result",
          "data": {
            "text/plain": [
              "'newyork'"
            ],
            "application/vnd.google.colaboratory.intrinsic+json": {
              "type": "string"
            }
          },
          "metadata": {},
          "execution_count": 51
        }
      ]
    },
    {
      "cell_type": "code",
      "source": [
        "del d['B']"
      ],
      "metadata": {
        "id": "D18rt3OaaW6n"
      },
      "execution_count": 52,
      "outputs": []
    },
    {
      "cell_type": "code",
      "source": [
        "d"
      ],
      "metadata": {
        "colab": {
          "base_uri": "https://localhost:8080/"
        },
        "id": "2-p912mybstI",
        "outputId": "43c0d727-ae24-4f90-e4f6-630809580d4c"
      },
      "execution_count": 54,
      "outputs": [
        {
          "output_type": "execute_result",
          "data": {
            "text/plain": [
              "{101: 'newyork', 2: 4000, 7: 6000, 102: 'Toronto'}"
            ]
          },
          "metadata": {},
          "execution_count": 54
        }
      ]
    },
    {
      "cell_type": "code",
      "source": [
        "d.values()"
      ],
      "metadata": {
        "colab": {
          "base_uri": "https://localhost:8080/"
        },
        "id": "Ek5OxW_sbuJN",
        "outputId": "84a1e246-cef0-48f4-b520-4a8070e66c75"
      },
      "execution_count": 55,
      "outputs": [
        {
          "output_type": "execute_result",
          "data": {
            "text/plain": [
              "dict_values(['newyork', 4000, 6000, 'Toronto'])"
            ]
          },
          "metadata": {},
          "execution_count": 55
        }
      ]
    },
    {
      "cell_type": "code",
      "source": [
        "d.keys()"
      ],
      "metadata": {
        "colab": {
          "base_uri": "https://localhost:8080/"
        },
        "id": "FYM76LZtcA6t",
        "outputId": "8ac8187a-d2f3-44e2-9285-6187187c0e7f"
      },
      "execution_count": 56,
      "outputs": [
        {
          "output_type": "execute_result",
          "data": {
            "text/plain": [
              "dict_keys([101, 2, 7, 102])"
            ]
          },
          "metadata": {},
          "execution_count": 56
        }
      ]
    },
    {
      "cell_type": "code",
      "source": [
        "d.items()"
      ],
      "metadata": {
        "colab": {
          "base_uri": "https://localhost:8080/"
        },
        "id": "nr-nqrcEcECo",
        "outputId": "69942ca1-35a0-48d5-86bf-42b332bfcead"
      },
      "execution_count": 57,
      "outputs": [
        {
          "output_type": "execute_result",
          "data": {
            "text/plain": [
              "dict_items([(101, 'newyork'), (2, 4000), (7, 6000), (102, 'Toronto')])"
            ]
          },
          "metadata": {},
          "execution_count": 57
        }
      ]
    },
    {
      "cell_type": "code",
      "source": [
        "d.update({24:[56,399,23]}) #Adding a list in a dictionary"
      ],
      "metadata": {
        "id": "As79SiMAcJww"
      },
      "execution_count": 64,
      "outputs": []
    },
    {
      "cell_type": "code",
      "source": [
        "d"
      ],
      "metadata": {
        "colab": {
          "base_uri": "https://localhost:8080/"
        },
        "id": "xKUxPMbocO2w",
        "outputId": "9e94cd28-58fb-4d87-9f5e-1a61c41746b4"
      },
      "execution_count": 63,
      "outputs": [
        {
          "output_type": "execute_result",
          "data": {
            "text/plain": [
              "{101: 'newyork', 2: 4000, 7: 6000, 102: 'Toronto', 24: [56, 399, 23], 399: 23}"
            ]
          },
          "metadata": {},
          "execution_count": 63
        }
      ]
    },
    {
      "cell_type": "code",
      "source": [
        "type(d)"
      ],
      "metadata": {
        "colab": {
          "base_uri": "https://localhost:8080/"
        },
        "id": "Q1goAbatct3E",
        "outputId": "e266ed53-ad02-43a4-bb1a-00c5e0289ef8"
      },
      "execution_count": 65,
      "outputs": [
        {
          "output_type": "execute_result",
          "data": {
            "text/plain": [
              "dict"
            ]
          },
          "metadata": {},
          "execution_count": 65
        }
      ]
    },
    {
      "cell_type": "code",
      "source": [
        "d.update({101:(25,56,89,45)})"
      ],
      "metadata": {
        "id": "7vj-3n4ReZOA"
      },
      "execution_count": 70,
      "outputs": []
    },
    {
      "cell_type": "code",
      "source": [
        "d"
      ],
      "metadata": {
        "colab": {
          "base_uri": "https://localhost:8080/"
        },
        "id": "Av9nUBqeegHG",
        "outputId": "f593c043-902c-4552-9a7a-092b52218805"
      },
      "execution_count": 71,
      "outputs": [
        {
          "output_type": "execute_result",
          "data": {
            "text/plain": [
              "{101: (25, 56, 89, 45),\n",
              " 2: 4000,\n",
              " 7: 6000,\n",
              " 102: 'Toronto',\n",
              " 24: [56, 399, 23],\n",
              " 399: 23}"
            ]
          },
          "metadata": {},
          "execution_count": 71
        }
      ]
    },
    {
      "cell_type": "code",
      "source": [
        "print(d)"
      ],
      "metadata": {
        "colab": {
          "base_uri": "https://localhost:8080/"
        },
        "id": "1QrFI8ybfZyw",
        "outputId": "88ff119f-24cc-4f9a-8e67-26b2f1a4fadd"
      },
      "execution_count": 72,
      "outputs": [
        {
          "output_type": "stream",
          "name": "stdout",
          "text": [
            "{101: (25, 56, 89, 45), 2: 4000, 7: 6000, 102: 'Toronto', 24: [56, 399, 23], 399: 23}\n"
          ]
        }
      ]
    },
    {
      "cell_type": "code",
      "source": [
        "d[101] = {'a':{30,50,34},'b':{399.500,400},'c':{211,322,111},'d':{23,13,67}}"
      ],
      "metadata": {
        "id": "u0KGRDu4fbh-"
      },
      "execution_count": 73,
      "outputs": []
    },
    {
      "cell_type": "code",
      "source": [
        "d"
      ],
      "metadata": {
        "colab": {
          "base_uri": "https://localhost:8080/"
        },
        "id": "_QxqiHzff7R1",
        "outputId": "3a7938af-ac6d-4a86-9a06-94762270309b"
      },
      "execution_count": 74,
      "outputs": [
        {
          "output_type": "execute_result",
          "data": {
            "text/plain": [
              "{101: {'a': {30, 34, 50},\n",
              "  'b': {399.5, 400},\n",
              "  'c': {111, 211, 322},\n",
              "  'd': {13, 23, 67}},\n",
              " 2: 4000,\n",
              " 7: 6000,\n",
              " 102: 'Toronto',\n",
              " 24: [56, 399, 23],\n",
              " 399: 23}"
            ]
          },
          "metadata": {},
          "execution_count": 74
        }
      ]
    },
    {
      "cell_type": "code",
      "source": [
        "print(d)"
      ],
      "metadata": {
        "colab": {
          "base_uri": "https://localhost:8080/"
        },
        "id": "Ftug4-q2f8Y7",
        "outputId": "696807c7-0d0c-466b-b9d8-998a00d3bbd9"
      },
      "execution_count": 75,
      "outputs": [
        {
          "output_type": "stream",
          "name": "stdout",
          "text": [
            "{101: {'a': {50, 34, 30}, 'b': {400, 399.5}, 'c': {322, 211, 111}, 'd': {67, 13, 23}}, 2: 4000, 7: 6000, 102: 'Toronto', 24: [56, 399, 23], 399: 23}\n"
          ]
        }
      ]
    },
    {
      "cell_type": "code",
      "source": [
        "d.get(23)\n",
        "d"
      ],
      "metadata": {
        "colab": {
          "base_uri": "https://localhost:8080/"
        },
        "id": "-oCOnP7ogaTN",
        "outputId": "d4404d1c-0912-4800-ec02-14cdb1608f42"
      },
      "execution_count": 77,
      "outputs": [
        {
          "output_type": "execute_result",
          "data": {
            "text/plain": [
              "{101: {'a': {30, 34, 50},\n",
              "  'b': {399.5, 400},\n",
              "  'c': {111, 211, 322},\n",
              "  'd': {13, 23, 67}},\n",
              " 2: 4000,\n",
              " 7: 6000,\n",
              " 102: 'Toronto',\n",
              " 24: [56, 399, 23],\n",
              " 399: 23}"
            ]
          },
          "metadata": {},
          "execution_count": 77
        }
      ]
    },
    {
      "cell_type": "code",
      "source": [
        "d.get('A')\n",
        "d"
      ],
      "metadata": {
        "colab": {
          "base_uri": "https://localhost:8080/"
        },
        "id": "8Nthn45YhI98",
        "outputId": "e2e7d711-5d8c-44b0-da00-2208b1f651d8"
      },
      "execution_count": 83,
      "outputs": [
        {
          "output_type": "execute_result",
          "data": {
            "text/plain": [
              "{101: {'a': {30, 34, 50},\n",
              "  'b': {399.5, 400},\n",
              "  'c': {111, 211, 322},\n",
              "  'd': {13, 23, 67}},\n",
              " 2: 4000,\n",
              " 7: 6000,\n",
              " 102: 'Toronto',\n",
              " 24: [56, 399, 23],\n",
              " 399: 23}"
            ]
          },
          "metadata": {},
          "execution_count": 83
        }
      ]
    },
    {
      "cell_type": "code",
      "source": [
        "d[101]['a'] #to access a value"
      ],
      "metadata": {
        "colab": {
          "base_uri": "https://localhost:8080/"
        },
        "id": "oFwIcRXThYHG",
        "outputId": "5fa7aeea-f13d-4e6f-ea2b-cb5701bace55"
      },
      "execution_count": 86,
      "outputs": [
        {
          "output_type": "execute_result",
          "data": {
            "text/plain": [
              "{30, 34, 50}"
            ]
          },
          "metadata": {},
          "execution_count": 86
        }
      ]
    },
    {
      "cell_type": "code",
      "source": [
        "d[101]['b']"
      ],
      "metadata": {
        "colab": {
          "base_uri": "https://localhost:8080/"
        },
        "id": "SzCbn1OaikRl",
        "outputId": "2dabc4e7-e1ad-4c20-c776-1666d48ebae0"
      },
      "execution_count": 95,
      "outputs": [
        {
          "output_type": "execute_result",
          "data": {
            "text/plain": [
              "{399.5, 400}"
            ]
          },
          "metadata": {},
          "execution_count": 95
        }
      ]
    },
    {
      "cell_type": "code",
      "source": [
        "d[101]['d']"
      ],
      "metadata": {
        "colab": {
          "base_uri": "https://localhost:8080/"
        },
        "id": "yBRTDaj4i-MT",
        "outputId": "743e0351-8b3e-4724-a7cb-b08b4401355a"
      },
      "execution_count": 100,
      "outputs": [
        {
          "output_type": "execute_result",
          "data": {
            "text/plain": [
              "{13, 23, 67}"
            ]
          },
          "metadata": {},
          "execution_count": 100
        }
      ]
    },
    {
      "cell_type": "code",
      "source": [
        "d"
      ],
      "metadata": {
        "colab": {
          "base_uri": "https://localhost:8080/"
        },
        "id": "SbBNPllZjmLo",
        "outputId": "2530bff2-bfe2-4d65-c6d1-c4167d027cb0"
      },
      "execution_count": 101,
      "outputs": [
        {
          "output_type": "execute_result",
          "data": {
            "text/plain": [
              "{101: {'a': {30, 34, 50},\n",
              "  'b': {399.5, 400},\n",
              "  'c': {111, 211, 322},\n",
              "  'd': {13, 23, 67}},\n",
              " 2: 4000,\n",
              " 7: 6000,\n",
              " 102: 'Toronto',\n",
              " 24: [56, 399, 23],\n",
              " 399: 23}"
            ]
          },
          "metadata": {},
          "execution_count": 101
        }
      ]
    },
    {
      "cell_type": "code",
      "source": [],
      "metadata": {
        "id": "aHyZKPsPkEc9"
      },
      "execution_count": 103,
      "outputs": []
    },
    {
      "cell_type": "code",
      "source": [],
      "metadata": {
        "id": "6uVL6WPNkJLx"
      },
      "execution_count": null,
      "outputs": []
    }
  ]
}